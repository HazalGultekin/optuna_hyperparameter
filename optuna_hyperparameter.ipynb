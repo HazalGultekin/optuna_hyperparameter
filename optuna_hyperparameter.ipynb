{
 "cells": [
  {
   "cell_type": "code",
   "execution_count": 1,
   "id": "2def1aed",
   "metadata": {},
   "outputs": [],
   "source": [
    "# import libraries\n",
    "import pandas as pd\n",
    "import numpy as np\n",
    "import optuna\n",
    "import lightgbm as lgb\n",
    "from sklearn.model_selection import train_test_split\n",
    "from sklearn.metrics import accuracy_score\n",
    "from sklearn.datasets import load_breast_cancer\n",
    "\n",
    "#close warnings\n",
    "import warnings\n",
    "warnings.filterwarnings('ignore')"
   ]
  },
  {
   "cell_type": "code",
   "execution_count": 2,
   "id": "e397de98",
   "metadata": {},
   "outputs": [
    {
     "name": "stdout",
     "output_type": "stream",
     "text": [
      "   mean radius  mean texture  mean perimeter  mean area  mean smoothness  \\\n",
      "0        17.99         10.38          122.80     1001.0          0.11840   \n",
      "1        20.57         17.77          132.90     1326.0          0.08474   \n",
      "2        19.69         21.25          130.00     1203.0          0.10960   \n",
      "3        11.42         20.38           77.58      386.1          0.14250   \n",
      "4        20.29         14.34          135.10     1297.0          0.10030   \n",
      "\n",
      "   mean compactness  mean concavity  mean concave points  mean symmetry  \\\n",
      "0           0.27760          0.3001              0.14710         0.2419   \n",
      "1           0.07864          0.0869              0.07017         0.1812   \n",
      "2           0.15990          0.1974              0.12790         0.2069   \n",
      "3           0.28390          0.2414              0.10520         0.2597   \n",
      "4           0.13280          0.1980              0.10430         0.1809   \n",
      "\n",
      "   mean fractal dimension  ...  worst radius  worst texture  worst perimeter  \\\n",
      "0                 0.07871  ...         25.38          17.33           184.60   \n",
      "1                 0.05667  ...         24.99          23.41           158.80   \n",
      "2                 0.05999  ...         23.57          25.53           152.50   \n",
      "3                 0.09744  ...         14.91          26.50            98.87   \n",
      "4                 0.05883  ...         22.54          16.67           152.20   \n",
      "\n",
      "   worst area  worst smoothness  worst compactness  worst concavity  \\\n",
      "0      2019.0            0.1622             0.6656           0.7119   \n",
      "1      1956.0            0.1238             0.1866           0.2416   \n",
      "2      1709.0            0.1444             0.4245           0.4504   \n",
      "3       567.7            0.2098             0.8663           0.6869   \n",
      "4      1575.0            0.1374             0.2050           0.4000   \n",
      "\n",
      "   worst concave points  worst symmetry  worst fractal dimension  \n",
      "0                0.2654          0.4601                  0.11890  \n",
      "1                0.1860          0.2750                  0.08902  \n",
      "2                0.2430          0.3613                  0.08758  \n",
      "3                0.2575          0.6638                  0.17300  \n",
      "4                0.1625          0.2364                  0.07678  \n",
      "\n",
      "[5 rows x 30 columns]\n"
     ]
    }
   ],
   "source": [
    "# load dataset\n",
    "data = load_breast_cancer()\n",
    "\n",
    "# Convert data's properties to a DataFrame\n",
    "df = pd.DataFrame(data.data, columns=data.feature_names)\n",
    "\n",
    "# View the first few lines\n",
    "print(df.head()) "
   ]
  },
  {
   "cell_type": "code",
   "execution_count": 3,
   "id": "da68f17b",
   "metadata": {},
   "outputs": [],
   "source": [
    "# Separating the data set into training and testing sets\n",
    "X = data.data\n",
    "y = data.target\n",
    "X_train, X_test, y_train, y_test = train_test_split(X, y, test_size=0.2, random_state=42)"
   ]
  },
  {
   "cell_type": "code",
   "execution_count": 4,
   "id": "f83e8b22",
   "metadata": {},
   "outputs": [
    {
     "name": "stderr",
     "output_type": "stream",
     "text": [
      "[I 2024-04-22 10:43:46,144] A new study created in memory with name: no-name-f4ecee55-c4b6-4387-8d26-b3d86bd32021\n"
     ]
    }
   ],
   "source": [
    "study = optuna.create_study(direction=\"maximize\")"
   ]
  },
  {
   "cell_type": "code",
   "execution_count": 5,
   "id": "404db2fb",
   "metadata": {},
   "outputs": [
    {
     "name": "stderr",
     "output_type": "stream",
     "text": [
      "[I 2024-04-22 10:43:47,885] Trial 0 finished with value: 0.9736842105263158 and parameters: {'learning_rate': 0.09546003643702863, 'num_leaves': 188, 'max_depth': 0, 'min_child_samples': 17, 'subsample': 0.6794241506069079, 'colsample_bytree': 0.6313640248593912, 'n_estimators': 837}. Best is trial 0 with value: 0.9736842105263158.\n",
      "[I 2024-04-22 10:43:48,185] Trial 1 finished with value: 0.9649122807017544 and parameters: {'learning_rate': 0.010523565467553331, 'num_leaves': 243, 'max_depth': 48, 'min_child_samples': 68, 'subsample': 0.6890749488348794, 'colsample_bytree': 0.6085217231914155, 'n_estimators': 509}. Best is trial 0 with value: 0.9736842105263158.\n",
      "[I 2024-04-22 10:43:49,151] Trial 2 finished with value: 0.9649122807017544 and parameters: {'learning_rate': 0.03356945508143604, 'num_leaves': 226, 'max_depth': 36, 'min_child_samples': 13, 'subsample': 0.832775692766962, 'colsample_bytree': 0.5893478292965865, 'n_estimators': 349}. Best is trial 0 with value: 0.9736842105263158.\n",
      "[I 2024-04-22 10:43:49,287] Trial 3 finished with value: 0.9736842105263158 and parameters: {'learning_rate': 0.054507573467498474, 'num_leaves': 105, 'max_depth': 26, 'min_child_samples': 71, 'subsample': 0.5855386648844263, 'colsample_bytree': 0.6860296432615116, 'n_estimators': 216}. Best is trial 0 with value: 0.9736842105263158.\n",
      "[I 2024-04-22 10:43:49,640] Trial 4 finished with value: 0.9736842105263158 and parameters: {'learning_rate': 0.02116762684780902, 'num_leaves': 134, 'max_depth': 0, 'min_child_samples': 80, 'subsample': 0.7818048219634063, 'colsample_bytree': 0.5879139415625416, 'n_estimators': 783}. Best is trial 0 with value: 0.9736842105263158.\n",
      "[I 2024-04-22 10:43:50,038] Trial 5 finished with value: 0.9736842105263158 and parameters: {'learning_rate': 0.04367263375718912, 'num_leaves': 72, 'max_depth': 26, 'min_child_samples': 92, 'subsample': 0.9184628718786334, 'colsample_bytree': 0.6962280378728001, 'n_estimators': 955}. Best is trial 0 with value: 0.9736842105263158.\n",
      "[I 2024-04-22 10:43:50,249] Trial 6 finished with value: 0.9736842105263158 and parameters: {'learning_rate': 0.08024648814347952, 'num_leaves': 187, 'max_depth': -1, 'min_child_samples': 45, 'subsample': 0.9733125259734292, 'colsample_bytree': 0.7238584600237931, 'n_estimators': 232}. Best is trial 0 with value: 0.9736842105263158.\n",
      "[I 2024-04-22 10:43:50,592] Trial 7 finished with value: 0.9736842105263158 and parameters: {'learning_rate': 0.04522528541561606, 'num_leaves': 39, 'max_depth': 36, 'min_child_samples': 43, 'subsample': 0.5799415768876166, 'colsample_bytree': 0.9252559339117982, 'n_estimators': 417}. Best is trial 0 with value: 0.9736842105263158.\n",
      "[I 2024-04-22 10:43:50,834] Trial 8 finished with value: 0.9736842105263158 and parameters: {'learning_rate': 0.026677928176571365, 'num_leaves': 47, 'max_depth': -1, 'min_child_samples': 76, 'subsample': 0.9738355371777909, 'colsample_bytree': 0.8471734784492102, 'n_estimators': 558}. Best is trial 0 with value: 0.9736842105263158.\n",
      "[I 2024-04-22 10:43:51,113] Trial 9 finished with value: 0.9736842105263158 and parameters: {'learning_rate': 0.02071136453725641, 'num_leaves': 98, 'max_depth': 43, 'min_child_samples': 99, 'subsample': 0.5654862197586473, 'colsample_bytree': 0.50620897164564, 'n_estimators': 768}. Best is trial 0 with value: 0.9736842105263158.\n",
      "[I 2024-04-22 10:43:51,703] Trial 10 finished with value: 0.9649122807017544 and parameters: {'learning_rate': 0.09667002801230196, 'num_leaves': 162, 'max_depth': 12, 'min_child_samples': 5, 'subsample': 0.6834479906893239, 'colsample_bytree': 0.8409952896691453, 'n_estimators': 765}. Best is trial 0 with value: 0.9736842105263158.\n",
      "[I 2024-04-22 10:43:52,014] Trial 11 finished with value: 0.9649122807017544 and parameters: {'learning_rate': 0.06588177039673239, 'num_leaves': 187, 'max_depth': 18, 'min_child_samples': 25, 'subsample': 0.5173450695398836, 'colsample_bytree': 0.6760621576185107, 'n_estimators': 141}. Best is trial 0 with value: 0.9736842105263158.\n",
      "[I 2024-04-22 10:43:52,534] Trial 12 finished with value: 0.9736842105263158 and parameters: {'learning_rate': 0.06713247002847647, 'num_leaves': 118, 'max_depth': 24, 'min_child_samples': 57, 'subsample': 0.6505457018669172, 'colsample_bytree': 0.783992770825207, 'n_estimators': 974}. Best is trial 0 with value: 0.9736842105263158.\n",
      "[I 2024-04-22 10:43:52,950] Trial 13 finished with value: 0.9736842105263158 and parameters: {'learning_rate': 0.09673072803878617, 'num_leaves': 152, 'max_depth': 11, 'min_child_samples': 28, 'subsample': 0.6182601374296947, 'colsample_bytree': 0.6444048044376651, 'n_estimators': 618}. Best is trial 0 with value: 0.9736842105263158.\n",
      "[I 2024-04-22 10:43:53,231] Trial 14 finished with value: 0.9736842105263158 and parameters: {'learning_rate': 0.06160185083882438, 'num_leaves': 6, 'max_depth': 29, 'min_child_samples': 61, 'subsample': 0.7579010019620717, 'colsample_bytree': 0.5180761684496512, 'n_estimators': 308}. Best is trial 0 with value: 0.9736842105263158.\n",
      "[I 2024-04-22 10:43:53,656] Trial 15 finished with value: 0.9736842105263158 and parameters: {'learning_rate': 0.08001564228342668, 'num_leaves': 202, 'max_depth': 9, 'min_child_samples': 36, 'subsample': 0.7170734549717854, 'colsample_bytree': 0.7649056684927666, 'n_estimators': 665}. Best is trial 0 with value: 0.9736842105263158.\n",
      "[I 2024-04-22 10:43:54,005] Trial 16 finished with value: 0.9736842105263158 and parameters: {'learning_rate': 0.08125049851714958, 'num_leaves': 96, 'max_depth': 18, 'min_child_samples': 79, 'subsample': 0.5176733661243675, 'colsample_bytree': 0.9906480124052697, 'n_estimators': 862}. Best is trial 0 with value: 0.9736842105263158.\n",
      "[I 2024-04-22 10:43:54,257] Trial 17 finished with value: 0.9649122807017544 and parameters: {'learning_rate': 0.050771046321579395, 'num_leaves': 156, 'max_depth': 33, 'min_child_samples': 20, 'subsample': 0.8294496740923296, 'colsample_bytree': 0.6481534983249527, 'n_estimators': 125}. Best is trial 0 with value: 0.9736842105263158.\n",
      "[I 2024-04-22 10:43:54,592] Trial 18 finished with value: 0.9736842105263158 and parameters: {'learning_rate': 0.07203122223810383, 'num_leaves': 212, 'max_depth': 19, 'min_child_samples': 49, 'subsample': 0.616984536963214, 'colsample_bytree': 0.546713784233909, 'n_estimators': 459}. Best is trial 0 with value: 0.9736842105263158.\n",
      "[I 2024-04-22 10:43:54,785] Trial 19 finished with value: 0.9649122807017544 and parameters: {'learning_rate': 0.05644205634821311, 'num_leaves': 256, 'max_depth': 5, 'min_child_samples': 68, 'subsample': 0.584939403609759, 'colsample_bytree': 0.8231841059689018, 'n_estimators': 241}. Best is trial 0 with value: 0.9736842105263158.\n"
     ]
    },
    {
     "name": "stdout",
     "output_type": "stream",
     "text": [
      "Best trial:\n",
      " Value: 0.9736842105263158\n",
      " Params: {'learning_rate': 0.09546003643702863, 'num_leaves': 188, 'max_depth': 0, 'min_child_samples': 17, 'subsample': 0.6794241506069079, 'colsample_bytree': 0.6313640248593912, 'n_estimators': 837}\n"
     ]
    }
   ],
   "source": [
    "# Defining a target function\n",
    "def objective(trial):\n",
    "  # Determine hyperparameter values\n",
    "  learning_rate = trial.suggest_float(\"learning_rate\", 0.01, 0.1)\n",
    "  num_leaves = trial.suggest_int(\"num_leaves\", 2, 256)\n",
    "  max_depth = trial.suggest_int(\"max_depth\", -1, 50)\n",
    "  min_child_samples = trial.suggest_int(\"min_child_samples\", 5, 100)\n",
    "  subsample = trial.suggest_float(\"subsample\", 0.5, 1.0)\n",
    "  colsample_bytree = trial.suggest_float(\"colsample_bytree\", 0.5, 1.0)\n",
    "  n_estimators = trial.suggest_int(\"n_estimators\", 100, 1000)\n",
    "  \n",
    "  # Create and train the model\n",
    "  model = lgb.LGBMClassifier(\n",
    "  learning_rate=learning_rate,\n",
    "  num_leaves=num_leaves,\n",
    "  max_depth=max_depth,\n",
    "  min_child_samples=min_child_samples,\n",
    "  subsample=subsample,\n",
    "  colsample_bytree=colsample_bytree,\n",
    "  n_estimators=n_estimators,\n",
    "  random_state=42\n",
    "  )\n",
    "  model.fit(X_train, y_train)\n",
    "  \n",
    "  # Evaluate the model and return the metric\n",
    "  y_pred = model.predict(X_test)\n",
    "  accuracy = accuracy_score(y_test, y_pred)\n",
    "  return accuracy\n",
    "\n",
    "# Run the study and review the results\n",
    "study.optimize(objective, n_trials=20)\n",
    "print(\"Best trial:\")\n",
    "print(\" Value: {}\".format(study.best_trial.value))\n",
    "print(\" Params: {}\".format(study.best_trial.params))"
   ]
  }
 ],
 "metadata": {
  "kernelspec": {
   "display_name": "Python 3 (ipykernel)",
   "language": "python",
   "name": "python3"
  },
  "language_info": {
   "codemirror_mode": {
    "name": "ipython",
    "version": 3
   },
   "file_extension": ".py",
   "mimetype": "text/x-python",
   "name": "python",
   "nbconvert_exporter": "python",
   "pygments_lexer": "ipython3",
   "version": "3.10.9"
  }
 },
 "nbformat": 4,
 "nbformat_minor": 5
}
